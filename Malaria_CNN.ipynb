{
 "cells": [
  {
   "cell_type": "markdown",
   "id": "b1e4f2ea",
   "metadata": {},
   "source": [
    "DataSet Link: \n",
    "https://www.kaggle.com/iarunava/cell-images-for-detecting-malaria"
   ]
  },
  {
   "cell_type": "code",
   "execution_count": 17,
   "id": "3e6a1e85",
   "metadata": {},
   "outputs": [],
   "source": [
    "# import the libraries as shown below\n",
    "\n",
    "from tensorflow.keras.layers import Input, Lambda, Dense, Flatten,Conv2D\n",
    "from tensorflow.keras.models import Model\n",
    "from tensorflow.keras.applications.vgg19 import VGG19\n",
    "from tensorflow.keras.applications.resnet50 import preprocess_input\n",
    "from tensorflow.keras.preprocessing import image\n",
    "from tensorflow.keras.preprocessing.image import ImageDataGenerator,load_img\n",
    "from tensorflow.keras.models import Sequential\n",
    "import numpy as np\n",
    "from glob import glob\n",
    "import matplotlib.pyplot as plt"
   ]
  },
  {
   "cell_type": "code",
   "execution_count": 18,
   "id": "5233e846",
   "metadata": {},
   "outputs": [],
   "source": [
    "# re-size all the images to this\n",
    "IMAGE_SIZE = [224, 224]\n",
    "\n",
    "train_path = 'cell_images/train'\n",
    "valid_path = 'cell_images/test'"
   ]
  },
  {
   "cell_type": "code",
   "execution_count": 19,
   "id": "ad450a4b",
   "metadata": {},
   "outputs": [],
   "source": [
    "# Import the Vgg 19 library as shown below and add preprocessing layer to the front of VGG\n",
    "# Here we will be using imagenet weights\n",
    "\n",
    "vgg19 = VGG19(input_shape=IMAGE_SIZE + [3], weights='imagenet', include_top=False)"
   ]
  },
  {
   "cell_type": "code",
   "execution_count": 20,
   "id": "3838b4f9",
   "metadata": {},
   "outputs": [
    {
     "name": "stdout",
     "output_type": "stream",
     "text": [
      "Model: \"vgg19\"\n",
      "_________________________________________________________________\n",
      " Layer (type)                Output Shape              Param #   \n",
      "=================================================================\n",
      " input_2 (InputLayer)        [(None, 224, 224, 3)]     0         \n",
      "                                                                 \n",
      " block1_conv1 (Conv2D)       (None, 224, 224, 64)      1792      \n",
      "                                                                 \n",
      " block1_conv2 (Conv2D)       (None, 224, 224, 64)      36928     \n",
      "                                                                 \n",
      " block1_pool (MaxPooling2D)  (None, 112, 112, 64)      0         \n",
      "                                                                 \n",
      " block2_conv1 (Conv2D)       (None, 112, 112, 128)     73856     \n",
      "                                                                 \n",
      " block2_conv2 (Conv2D)       (None, 112, 112, 128)     147584    \n",
      "                                                                 \n",
      " block2_pool (MaxPooling2D)  (None, 56, 56, 128)       0         \n",
      "                                                                 \n",
      " block3_conv1 (Conv2D)       (None, 56, 56, 256)       295168    \n",
      "                                                                 \n",
      " block3_conv2 (Conv2D)       (None, 56, 56, 256)       590080    \n",
      "                                                                 \n",
      " block3_conv3 (Conv2D)       (None, 56, 56, 256)       590080    \n",
      "                                                                 \n",
      " block3_conv4 (Conv2D)       (None, 56, 56, 256)       590080    \n",
      "                                                                 \n",
      " block3_pool (MaxPooling2D)  (None, 28, 28, 256)       0         \n",
      "                                                                 \n",
      " block4_conv1 (Conv2D)       (None, 28, 28, 512)       1180160   \n",
      "                                                                 \n",
      " block4_conv2 (Conv2D)       (None, 28, 28, 512)       2359808   \n",
      "                                                                 \n",
      " block4_conv3 (Conv2D)       (None, 28, 28, 512)       2359808   \n",
      "                                                                 \n",
      " block4_conv4 (Conv2D)       (None, 28, 28, 512)       2359808   \n",
      "                                                                 \n",
      " block4_pool (MaxPooling2D)  (None, 14, 14, 512)       0         \n",
      "                                                                 \n",
      " block5_conv1 (Conv2D)       (None, 14, 14, 512)       2359808   \n",
      "                                                                 \n",
      " block5_conv2 (Conv2D)       (None, 14, 14, 512)       2359808   \n",
      "                                                                 \n",
      " block5_conv3 (Conv2D)       (None, 14, 14, 512)       2359808   \n",
      "                                                                 \n",
      " block5_conv4 (Conv2D)       (None, 14, 14, 512)       2359808   \n",
      "                                                                 \n",
      " block5_pool (MaxPooling2D)  (None, 7, 7, 512)         0         \n",
      "                                                                 \n",
      "=================================================================\n",
      "Total params: 20,024,384\n",
      "Trainable params: 20,024,384\n",
      "Non-trainable params: 0\n",
      "_________________________________________________________________\n"
     ]
    }
   ],
   "source": [
    "vgg19.summary()"
   ]
  },
  {
   "cell_type": "code",
   "execution_count": 21,
   "id": "3e6b3fba",
   "metadata": {},
   "outputs": [],
   "source": [
    "# don't train existing weights\n",
    "for layer in vgg19.layers:\n",
    "    layer.trainable = False"
   ]
  },
  {
   "cell_type": "code",
   "execution_count": 22,
   "id": "92bd1046",
   "metadata": {},
   "outputs": [],
   "source": [
    "# useful for getting number of output classes\n",
    "folders = glob('cell_images/train/*')"
   ]
  },
  {
   "cell_type": "code",
   "execution_count": 23,
   "id": "21f6a8f2",
   "metadata": {},
   "outputs": [
    {
     "data": {
      "text/plain": [
       "['cell_images/train/Parasitized', 'cell_images/train/Uninfected']"
      ]
     },
     "execution_count": 23,
     "metadata": {},
     "output_type": "execute_result"
    }
   ],
   "source": [
    "folders"
   ]
  },
  {
   "cell_type": "code",
   "execution_count": 24,
   "id": "7d91d1e6",
   "metadata": {},
   "outputs": [],
   "source": [
    "# our layers - you can add more if you want\n",
    "x = Flatten()(vgg19.output)\n",
    "prediction = Dense(len(folders), activation='softmax')(x)\n",
    "\n",
    "# create a model object\n",
    "model = Model(inputs=vgg19.input, outputs=prediction)"
   ]
  },
  {
   "cell_type": "code",
   "execution_count": 25,
   "id": "a01f7f51",
   "metadata": {},
   "outputs": [
    {
     "name": "stdout",
     "output_type": "stream",
     "text": [
      "Model: \"model_1\"\n",
      "_________________________________________________________________\n",
      " Layer (type)                Output Shape              Param #   \n",
      "=================================================================\n",
      " input_2 (InputLayer)        [(None, 224, 224, 3)]     0         \n",
      "                                                                 \n",
      " block1_conv1 (Conv2D)       (None, 224, 224, 64)      1792      \n",
      "                                                                 \n",
      " block1_conv2 (Conv2D)       (None, 224, 224, 64)      36928     \n",
      "                                                                 \n",
      " block1_pool (MaxPooling2D)  (None, 112, 112, 64)      0         \n",
      "                                                                 \n",
      " block2_conv1 (Conv2D)       (None, 112, 112, 128)     73856     \n",
      "                                                                 \n",
      " block2_conv2 (Conv2D)       (None, 112, 112, 128)     147584    \n",
      "                                                                 \n",
      " block2_pool (MaxPooling2D)  (None, 56, 56, 128)       0         \n",
      "                                                                 \n",
      " block3_conv1 (Conv2D)       (None, 56, 56, 256)       295168    \n",
      "                                                                 \n",
      " block3_conv2 (Conv2D)       (None, 56, 56, 256)       590080    \n",
      "                                                                 \n",
      " block3_conv3 (Conv2D)       (None, 56, 56, 256)       590080    \n",
      "                                                                 \n",
      " block3_conv4 (Conv2D)       (None, 56, 56, 256)       590080    \n",
      "                                                                 \n",
      " block3_pool (MaxPooling2D)  (None, 28, 28, 256)       0         \n",
      "                                                                 \n",
      " block4_conv1 (Conv2D)       (None, 28, 28, 512)       1180160   \n",
      "                                                                 \n",
      " block4_conv2 (Conv2D)       (None, 28, 28, 512)       2359808   \n",
      "                                                                 \n",
      " block4_conv3 (Conv2D)       (None, 28, 28, 512)       2359808   \n",
      "                                                                 \n",
      " block4_conv4 (Conv2D)       (None, 28, 28, 512)       2359808   \n",
      "                                                                 \n",
      " block4_pool (MaxPooling2D)  (None, 14, 14, 512)       0         \n",
      "                                                                 \n",
      " block5_conv1 (Conv2D)       (None, 14, 14, 512)       2359808   \n",
      "                                                                 \n",
      " block5_conv2 (Conv2D)       (None, 14, 14, 512)       2359808   \n",
      "                                                                 \n",
      " block5_conv3 (Conv2D)       (None, 14, 14, 512)       2359808   \n",
      "                                                                 \n",
      " block5_conv4 (Conv2D)       (None, 14, 14, 512)       2359808   \n",
      "                                                                 \n",
      " block5_pool (MaxPooling2D)  (None, 7, 7, 512)         0         \n",
      "                                                                 \n",
      " flatten_1 (Flatten)         (None, 25088)             0         \n",
      "                                                                 \n",
      " dense_1 (Dense)             (None, 2)                 50178     \n",
      "                                                                 \n",
      "=================================================================\n",
      "Total params: 20,074,562\n",
      "Trainable params: 50,178\n",
      "Non-trainable params: 20,024,384\n",
      "_________________________________________________________________\n"
     ]
    }
   ],
   "source": [
    "model.summary()"
   ]
  },
  {
   "cell_type": "code",
   "execution_count": 26,
   "id": "8855767a",
   "metadata": {},
   "outputs": [],
   "source": [
    "model.compile(\n",
    "  loss='categorical_crossentropy',\n",
    "  optimizer='adam',\n",
    "  metrics=['accuracy'])"
   ]
  },
  {
   "cell_type": "code",
   "execution_count": 27,
   "id": "80acbfa4",
   "metadata": {},
   "outputs": [],
   "source": [
    "# Use the Image Data Generator to import the images from the dataset\n",
    "from tensorflow.keras.preprocessing.image import ImageDataGenerator"
   ]
  },
  {
   "cell_type": "code",
   "execution_count": 63,
   "id": "092bcaa6",
   "metadata": {},
   "outputs": [
    {
     "name": "stdout",
     "output_type": "stream",
     "text": [
      "Found 1026 images belonging to 2 classes.\n"
     ]
    }
   ],
   "source": [
    "# Generate training set\n",
    "train_datagen = ImageDataGenerator(rescale = 1./255,\n",
    "                                   shear_range = 0.2,\n",
    "                                   zoom_range = 0.2,\n",
    "                                   horizontal_flip = True)\n",
    "training_set = train_datagen.flow_from_directory('cell_images/train',\n",
    "                                                 target_size = (224, 224),\n",
    "                                                 batch_size = 16,\n",
    "                                                 class_mode = 'categorical')"
   ]
  },
  {
   "cell_type": "code",
   "execution_count": 64,
   "id": "6af03101",
   "metadata": {},
   "outputs": [
    {
     "name": "stdout",
     "output_type": "stream",
     "text": [
      "Found 246 images belonging to 2 classes.\n"
     ]
    }
   ],
   "source": [
    "# Generate test set (only rescale)\n",
    "test_datagen = ImageDataGenerator(rescale = 1./255)\n",
    "test_set = test_datagen.flow_from_directory('cell_images/test',\n",
    "                                            target_size = (224, 224),\n",
    "                                            batch_size = 16,\n",
    "                                            class_mode = 'categorical')"
   ]
  },
  {
   "cell_type": "code",
   "execution_count": 65,
   "id": "882c1b78",
   "metadata": {},
   "outputs": [
    {
     "name": "stdout",
     "output_type": "stream",
     "text": [
      "Epoch 1/10\n",
      "65/65 [==============================] - 55s 852ms/step - loss: 0.2551 - accuracy: 0.8899 - val_loss: 1.5780 - val_accuracy: 0.5894\n",
      "Epoch 2/10\n",
      "65/65 [==============================] - 55s 851ms/step - loss: 0.2522 - accuracy: 0.8899 - val_loss: 1.1985 - val_accuracy: 0.6382\n",
      "Epoch 3/10\n",
      "65/65 [==============================] - 55s 842ms/step - loss: 0.3225 - accuracy: 0.8616 - val_loss: 0.6151 - val_accuracy: 0.7724\n",
      "Epoch 4/10\n",
      "65/65 [==============================] - 55s 847ms/step - loss: 0.2539 - accuracy: 0.8918 - val_loss: 1.1313 - val_accuracy: 0.6545\n",
      "Epoch 5/10\n",
      "65/65 [==============================] - 55s 850ms/step - loss: 0.2072 - accuracy: 0.9220 - val_loss: 0.5004 - val_accuracy: 0.8252\n",
      "Epoch 6/10\n",
      "65/65 [==============================] - 55s 849ms/step - loss: 0.2194 - accuracy: 0.9064 - val_loss: 0.7496 - val_accuracy: 0.7764\n",
      "Epoch 7/10\n",
      "65/65 [==============================] - 55s 850ms/step - loss: 0.2931 - accuracy: 0.8899 - val_loss: 1.3678 - val_accuracy: 0.6545\n",
      "Epoch 8/10\n",
      "65/65 [==============================] - 55s 852ms/step - loss: 0.2338 - accuracy: 0.9162 - val_loss: 0.9512 - val_accuracy: 0.7317\n",
      "Epoch 9/10\n",
      "65/65 [==============================] - 56s 858ms/step - loss: 0.1805 - accuracy: 0.9201 - val_loss: 1.8849 - val_accuracy: 0.5976\n",
      "Epoch 10/10\n",
      "65/65 [==============================] - 56s 855ms/step - loss: 0.2119 - accuracy: 0.9133 - val_loss: 0.4972 - val_accuracy: 0.8293\n"
     ]
    }
   ],
   "source": [
    "# fit the model and store the history\n",
    "\n",
    "fit_hist = model.fit(\n",
    "    training_set,\n",
    "    validation_data = test_set,\n",
    "    epochs=10,\n",
    "    steps_per_epoch=len(training_set),\n",
    "    validation_steps=len(test_set)\n",
    ")"
   ]
  },
  {
   "cell_type": "code",
   "execution_count": 66,
   "id": "4bfcf276",
   "metadata": {},
   "outputs": [
    {
     "data": {
      "image/png": "[encoded data removed]",
      "text/plain": [
       "<Figure size 432x288 with 1 Axes>"
      ]
     },
     "metadata": {
      "needs_background": "light"
     },
     "output_type": "display_data"
    },
    {
     "data": {
      "image/png": "[encoded data removed]",
      "text/plain": [
       "<Figure size 432x288 with 1 Axes>"
      ]
     },
     "metadata": {
      "needs_background": "light"
     },
     "output_type": "display_data"
    },
    {
     "data": {
      "text/plain": [
       "<Figure size 432x288 with 0 Axes>"
      ]
     },
     "metadata": {},
     "output_type": "display_data"
    }
   ],
   "source": [
    "# plot the loss\n",
    "plt.plot(fit_hist.history['loss'], label='train loss')\n",
    "plt.plot(fit_hist.history['val_loss'], label='test loss')\n",
    "plt.legend()\n",
    "plt.show()\n",
    "plt.savefig('Loss')\n",
    "\n",
    "# plot the accuracy\n",
    "plt.plot(fit_hist.history['accuracy'], label='train acc')\n",
    "plt.plot(fit_hist.history['val_accuracy'], label='test acc')\n",
    "plt.legend()\n",
    "plt.show()\n",
    "plt.savefig('Acc')"
   ]
  },
  {
   "cell_type": "code",
   "execution_count": 184,
   "id": "1f81ce1c",
   "metadata": {},
   "outputs": [
    {
     "name": "stdout",
     "output_type": "stream",
     "text": [
      "WARNING:tensorflow:Compiled the loaded model, but the compiled metrics have yet to be built. `model.compile_metrics` will be empty until you train or evaluate the model.\n"
     ]
    }
   ],
   "source": [
    "# save model as a h5 file\n",
    "\n",
    "from tensorflow.keras.models import load_model\n",
    "\n",
    "model.save('model_vgg.h5')\n",
    "\n",
    "vgg19.save('raw_vgg.h5')"
   ]
  },
  {
   "cell_type": "markdown",
   "id": "f836db07",
   "metadata": {},
   "source": [
    "# Prediction for test set"
   ]
  },
  {
   "cell_type": "code",
   "execution_count": 68,
   "id": "0355315e",
   "metadata": {},
   "outputs": [
    {
     "data": {
      "text/plain": [
       "array([[9.41294253e-01, 5.87057918e-02],\n",
       "       [4.16131765e-02, 9.58386779e-01],\n",
       "       [9.96528566e-01, 3.47143854e-03],\n",
       "       [2.58340361e-03, 9.97416615e-01],\n",
       "       [9.86215174e-01, 1.37847988e-02],\n",
       "       [3.30858588e-01, 6.69141471e-01],\n",
       "       [2.12039594e-02, 9.78796065e-01],\n",
       "       [9.04612780e-01, 9.53872502e-02],\n",
       "       [8.55974376e-01, 1.44025594e-01],\n",
       "       [2.48754222e-04, 9.99751270e-01],\n",
       "       [2.17131078e-02, 9.78286922e-01],\n",
       "       [4.62399200e-02, 9.53760087e-01],\n",
       "       [8.74296367e-01, 1.25703618e-01],\n",
       "       [6.84375286e-01, 3.15624774e-01],\n",
       "       [1.17550259e-02, 9.88245010e-01],\n",
       "       [6.14431640e-03, 9.93855655e-01],\n",
       "       [3.21208686e-03, 9.96787906e-01],\n",
       "       [9.99521971e-01, 4.78011585e-04],\n",
       "       [3.51837695e-01, 6.48162365e-01],\n",
       "       [6.32993281e-01, 3.67006689e-01],\n",
       "       [4.24153125e-03, 9.95758474e-01],\n",
       "       [9.86132622e-01, 1.38674546e-02],\n",
       "       [1.30289630e-03, 9.98697102e-01],\n",
       "       [8.59695911e-01, 1.40304089e-01],\n",
       "       [9.81885135e-01, 1.81148164e-02],\n",
       "       [8.38578492e-02, 9.16142166e-01],\n",
       "       [5.83793104e-01, 4.16206867e-01],\n",
       "       [9.99897957e-01, 1.02081474e-04],\n",
       "       [2.08824798e-02, 9.79117513e-01],\n",
       "       [4.30938741e-03, 9.95690644e-01],\n",
       "       [9.25905347e-01, 7.40946010e-02],\n",
       "       [4.90786368e-03, 9.95092154e-01],\n",
       "       [4.37498046e-03, 9.95625079e-01],\n",
       "       [7.80513823e-01, 2.19486251e-01],\n",
       "       [9.81308281e-01, 1.86917111e-02],\n",
       "       [2.81397230e-03, 9.97186005e-01],\n",
       "       [9.56909359e-01, 4.30906564e-02],\n",
       "       [1.21638067e-01, 8.78361940e-01],\n",
       "       [9.74802911e-01, 2.51971409e-02],\n",
       "       [9.93850887e-01, 6.14918349e-03],\n",
       "       [2.37748865e-03, 9.97622550e-01],\n",
       "       [9.96642351e-01, 3.35766585e-03],\n",
       "       [7.37574816e-01, 2.62425154e-01],\n",
       "       [7.47814357e-01, 2.52185702e-01],\n",
       "       [3.60116214e-02, 9.63988423e-01],\n",
       "       [5.02996519e-03, 9.94970024e-01],\n",
       "       [9.99180734e-01, 8.19273351e-04],\n",
       "       [1.51823930e-04, 9.99848127e-01],\n",
       "       [8.33073922e-04, 9.99166965e-01],\n",
       "       [9.86984253e-01, 1.30157238e-02],\n",
       "       [3.39097995e-03, 9.96609092e-01],\n",
       "       [2.83657551e-01, 7.16342449e-01],\n",
       "       [1.23924585e-02, 9.87607539e-01],\n",
       "       [8.17104131e-02, 9.18289542e-01],\n",
       "       [1.10790855e-03, 9.98892128e-01],\n",
       "       [9.99958038e-01, 4.19884309e-05],\n",
       "       [9.90133047e-01, 9.86697897e-03],\n",
       "       [1.15235243e-02, 9.88476515e-01],\n",
       "       [1.19586149e-02, 9.88041401e-01],\n",
       "       [4.36433824e-03, 9.95635688e-01],\n",
       "       [1.38983421e-03, 9.98610198e-01],\n",
       "       [6.84651673e-01, 3.15348357e-01],\n",
       "       [9.92946446e-01, 7.05360202e-03],\n",
       "       [8.74189958e-02, 9.12581027e-01],\n",
       "       [1.76981650e-02, 9.82301831e-01],\n",
       "       [2.90530138e-02, 9.70946968e-01],\n",
       "       [9.98971701e-01, 1.02830189e-03],\n",
       "       [8.50680619e-02, 9.14931893e-01],\n",
       "       [3.62818898e-03, 9.96371865e-01],\n",
       "       [7.59026781e-03, 9.92409706e-01],\n",
       "       [7.84832358e-01, 2.15167701e-01],\n",
       "       [9.85031247e-01, 1.49687324e-02],\n",
       "       [1.08497538e-01, 8.91502440e-01],\n",
       "       [5.77175943e-03, 9.94228244e-01],\n",
       "       [2.73039699e-01, 7.26960301e-01],\n",
       "       [1.42396800e-03, 9.98576045e-01],\n",
       "       [2.25518830e-03, 9.97744799e-01],\n",
       "       [8.35029542e-01, 1.64970458e-01],\n",
       "       [3.33771467e-01, 6.66228592e-01],\n",
       "       [2.43282154e-01, 7.56717861e-01],\n",
       "       [9.38349009e-01, 6.16510361e-02],\n",
       "       [5.97542822e-01, 4.02457178e-01],\n",
       "       [6.69808447e-01, 3.30191523e-01],\n",
       "       [9.92660582e-01, 7.33947009e-03],\n",
       "       [9.98935044e-01, 1.06498972e-03],\n",
       "       [9.99986172e-01, 1.38424602e-05],\n",
       "       [3.03257536e-02, 9.69674230e-01],\n",
       "       [4.90637720e-02, 9.50936258e-01],\n",
       "       [8.51741731e-02, 9.14825857e-01],\n",
       "       [1.53087363e-01, 8.46912682e-01],\n",
       "       [8.55153706e-03, 9.91448522e-01],\n",
       "       [7.86179379e-02, 9.21382070e-01],\n",
       "       [1.44103944e-01, 8.55896056e-01],\n",
       "       [1.21605850e-03, 9.98784006e-01],\n",
       "       [9.58610654e-01, 4.13894095e-02],\n",
       "       [3.86768766e-02, 9.61323082e-01],\n",
       "       [7.44353175e-01, 2.55646825e-01],\n",
       "       [9.33202326e-01, 6.67977035e-02],\n",
       "       [1.13398498e-02, 9.88660097e-01],\n",
       "       [9.45538461e-01, 5.44616058e-02],\n",
       "       [1.17651168e-02, 9.88234878e-01],\n",
       "       [9.66583490e-01, 3.34165059e-02],\n",
       "       [9.23893571e-01, 7.61064440e-02],\n",
       "       [9.57998991e-01, 4.20010537e-02],\n",
       "       [4.41050917e-01, 5.58949172e-01],\n",
       "       [4.05755229e-02, 9.59424496e-01],\n",
       "       [9.99897122e-01, 1.02844046e-04],\n",
       "       [7.90331140e-03, 9.92096663e-01],\n",
       "       [6.14025514e-04, 9.99385953e-01],\n",
       "       [9.99386549e-01, 6.13456650e-04],\n",
       "       [9.97814119e-01, 2.18593981e-03],\n",
       "       [1.06131041e-03, 9.98938739e-01],\n",
       "       [9.99270260e-01, 7.29756546e-04],\n",
       "       [1.15816861e-01, 8.84183168e-01],\n",
       "       [5.72315138e-03, 9.94276822e-01],\n",
       "       [1.70235173e-03, 9.98297632e-01],\n",
       "       [5.43377325e-02, 9.45662320e-01],\n",
       "       [9.95543778e-01, 4.45629098e-03],\n",
       "       [2.26475322e-03, 9.97735262e-01],\n",
       "       [2.09867512e-03, 9.97901320e-01],\n",
       "       [3.13434703e-03, 9.96865749e-01],\n",
       "       [2.55931020e-01, 7.44068980e-01],\n",
       "       [3.66865913e-03, 9.96331394e-01],\n",
       "       [1.06976265e-02, 9.89302337e-01],\n",
       "       [2.79407185e-02, 9.72059250e-01],\n",
       "       [5.53468227e-01, 4.46531773e-01],\n",
       "       [9.76119041e-01, 2.38809772e-02],\n",
       "       [6.21489704e-01, 3.78510296e-01],\n",
       "       [7.29954541e-01, 2.70045519e-01],\n",
       "       [2.38674767e-02, 9.76132572e-01],\n",
       "       [2.35973932e-02, 9.76402640e-01],\n",
       "       [1.90385152e-02, 9.80961502e-01],\n",
       "       [2.14252099e-01, 7.85747886e-01],\n",
       "       [2.39749346e-03, 9.97602522e-01],\n",
       "       [3.23271903e-04, 9.99676704e-01],\n",
       "       [6.77803874e-01, 3.22196126e-01],\n",
       "       [5.41439326e-03, 9.94585693e-01],\n",
       "       [5.86123625e-03, 9.94138837e-01],\n",
       "       [2.73838013e-01, 7.26162076e-01],\n",
       "       [8.99480939e-01, 1.00518994e-01],\n",
       "       [9.99994278e-01, 5.75775630e-06],\n",
       "       [5.38498759e-02, 9.46150184e-01],\n",
       "       [9.99071896e-01, 9.28097172e-04],\n",
       "       [9.54285562e-01, 4.57144119e-02],\n",
       "       [9.81340230e-01, 1.86597705e-02],\n",
       "       [8.87633115e-02, 9.11236703e-01],\n",
       "       [9.05623853e-01, 9.43761542e-02],\n",
       "       [1.63957119e-01, 8.36042941e-01],\n",
       "       [9.90644574e-01, 9.35540907e-03],\n",
       "       [6.17014468e-02, 9.38298583e-01],\n",
       "       [9.95258391e-01, 4.74164775e-03],\n",
       "       [5.88739011e-03, 9.94112670e-01],\n",
       "       [8.04942071e-01, 1.95057958e-01],\n",
       "       [3.93001502e-03, 9.96070027e-01],\n",
       "       [1.63291171e-01, 8.36708903e-01],\n",
       "       [7.65455980e-03, 9.92345512e-01],\n",
       "       [1.71540529e-01, 8.28459501e-01],\n",
       "       [4.98860702e-02, 9.50113893e-01],\n",
       "       [2.13119303e-04, 9.99786913e-01],\n",
       "       [4.31701213e-01, 5.68298757e-01],\n",
       "       [9.99995112e-01, 4.89634431e-06],\n",
       "       [9.12017301e-02, 9.08798277e-01],\n",
       "       [9.53776658e-01, 4.62233499e-02],\n",
       "       [5.26269041e-02, 9.47373092e-01],\n",
       "       [1.48692646e-03, 9.98513043e-01],\n",
       "       [6.73518181e-02, 9.32648182e-01],\n",
       "       [1.30151317e-03, 9.98698533e-01],\n",
       "       [8.97136152e-01, 1.02863863e-01],\n",
       "       [9.52336013e-01, 4.76639569e-02],\n",
       "       [8.97261798e-01, 1.02738269e-01],\n",
       "       [9.73261714e-01, 2.67382693e-02],\n",
       "       [9.99518991e-01, 4.80970572e-04],\n",
       "       [3.36812250e-02, 9.66318727e-01],\n",
       "       [1.08925672e-02, 9.89107430e-01],\n",
       "       [8.73937130e-01, 1.26062915e-01],\n",
       "       [5.81545293e-01, 4.18454707e-01],\n",
       "       [2.33446204e-04, 9.99766529e-01],\n",
       "       [2.38357810e-03, 9.97616410e-01],\n",
       "       [8.80375087e-01, 1.19624965e-01],\n",
       "       [6.38370395e-01, 3.61629635e-01],\n",
       "       [2.68919999e-03, 9.97310877e-01],\n",
       "       [9.99290884e-01, 7.09153304e-04],\n",
       "       [9.91732597e-01, 8.26742221e-03],\n",
       "       [9.99834359e-01, 1.65715202e-04],\n",
       "       [4.62514281e-01, 5.37485778e-01],\n",
       "       [8.36467277e-03, 9.91635323e-01],\n",
       "       [5.16533911e-01, 4.83466119e-01],\n",
       "       [6.39053388e-03, 9.93609548e-01],\n",
       "       [1.38764102e-02, 9.86123562e-01],\n",
       "       [5.09726517e-02, 9.49027300e-01],\n",
       "       [2.27989092e-01, 7.72010922e-01],\n",
       "       [3.23785454e-01, 6.76214576e-01],\n",
       "       [6.49210691e-01, 3.50789398e-01],\n",
       "       [9.99301791e-01, 6.98153686e-04],\n",
       "       [3.69572937e-01, 6.30427122e-01],\n",
       "       [1.12476513e-01, 8.87523532e-01],\n",
       "       [9.97532189e-01, 2.46789353e-03],\n",
       "       [3.76432575e-03, 9.96235669e-01],\n",
       "       [2.34605167e-02, 9.76539493e-01],\n",
       "       [9.77280378e-01, 2.27196235e-02],\n",
       "       [9.82718587e-01, 1.72814261e-02],\n",
       "       [9.04666007e-01, 9.53339636e-02],\n",
       "       [9.37123775e-01, 6.28762469e-02],\n",
       "       [6.71421294e-04, 9.99328613e-01],\n",
       "       [9.88783300e-01, 1.12166591e-02],\n",
       "       [8.79254192e-03, 9.91207540e-01],\n",
       "       [7.31896222e-01, 2.68103838e-01],\n",
       "       [9.97833788e-01, 2.16616248e-03],\n",
       "       [3.84647772e-02, 9.61535215e-01],\n",
       "       [9.08285141e-01, 9.17148814e-02],\n",
       "       [7.16954644e-04, 9.99283016e-01],\n",
       "       [6.46562517e-01, 3.53437513e-01],\n",
       "       [2.02849060e-01, 7.97150910e-01],\n",
       "       [9.87293899e-01, 1.27060749e-02],\n",
       "       [9.76418912e-01, 2.35811640e-02],\n",
       "       [4.61536925e-03, 9.95384634e-01],\n",
       "       [9.99962449e-01, 3.75377422e-05],\n",
       "       [6.58611000e-01, 3.41389000e-01],\n",
       "       [4.05604057e-02, 9.59439635e-01],\n",
       "       [1.81480555e-03, 9.98185277e-01],\n",
       "       [1.55412108e-02, 9.84458804e-01],\n",
       "       [1.01586813e-02, 9.89841282e-01],\n",
       "       [6.83173398e-03, 9.93168294e-01],\n",
       "       [7.35188782e-01, 2.64811248e-01],\n",
       "       [9.96993423e-01, 3.00654024e-03],\n",
       "       [9.61889684e-01, 3.81103493e-02],\n",
       "       [3.54160811e-03, 9.96458352e-01],\n",
       "       [2.24090770e-01, 7.75909305e-01],\n",
       "       [9.97630894e-01, 2.36914190e-03],\n",
       "       [8.80772054e-01, 1.19227923e-01],\n",
       "       [2.99697695e-03, 9.97003019e-01],\n",
       "       [9.88192618e-01, 1.18073858e-02],\n",
       "       [9.97425199e-01, 2.57482636e-03],\n",
       "       [1.29473936e-02, 9.87052619e-01],\n",
       "       [7.01770931e-03, 9.92982268e-01],\n",
       "       [1.35305822e-02, 9.86469388e-01],\n",
       "       [2.75069871e-03, 9.97249365e-01],\n",
       "       [1.27834573e-01, 8.72165501e-01],\n",
       "       [5.56559205e-01, 4.43440765e-01],\n",
       "       [9.23139393e-01, 7.68605918e-02],\n",
       "       [5.36205709e-01, 4.63794261e-01],\n",
       "       [9.99981999e-01, 1.79841081e-05],\n",
       "       [2.37934813e-01, 7.62065232e-01],\n",
       "       [9.99893785e-01, 1.06249303e-04],\n",
       "       [2.12218836e-02, 9.78778124e-01],\n",
       "       [5.09134727e-03, 9.94908631e-01]], dtype=float32)"
      ]
     },
     "execution_count": 68,
     "metadata": {},
     "output_type": "execute_result"
    }
   ],
   "source": [
    "y_pred = model.predict(test_set)\n",
    "y_pred"
   ]
  },
  {
   "cell_type": "code",
   "execution_count": 69,
   "id": "ef82abeb",
   "metadata": {},
   "outputs": [
    {
     "data": {
      "text/plain": [
       "array([0, 1, 0, 1, 0, 1, 1, 0, 0, 1, 1, 1, 0, 0, 1, 1, 1, 0, 1, 0, 1, 0,\n",
       "       1, 0, 0, 1, 0, 0, 1, 1, 0, 1, 1, 0, 0, 1, 0, 1, 0, 0, 1, 0, 0, 0,\n",
       "       1, 1, 0, 1, 1, 0, 1, 1, 1, 1, 1, 0, 0, 1, 1, 1, 1, 0, 0, 1, 1, 1,\n",
       "       0, 1, 1, 1, 0, 0, 1, 1, 1, 1, 1, 0, 1, 1, 0, 0, 0, 0, 0, 0, 1, 1,\n",
       "       1, 1, 1, 1, 1, 1, 0, 1, 0, 0, 1, 0, 1, 0, 0, 0, 1, 1, 0, 1, 1, 0,\n",
       "       0, 1, 0, 1, 1, 1, 1, 0, 1, 1, 1, 1, 1, 1, 1, 0, 0, 0, 0, 1, 1, 1,\n",
       "       1, 1, 1, 0, 1, 1, 1, 0, 0, 1, 0, 0, 0, 1, 0, 1, 0, 1, 0, 1, 0, 1,\n",
       "       1, 1, 1, 1, 1, 1, 0, 1, 0, 1, 1, 1, 1, 0, 0, 0, 0, 0, 1, 1, 0, 0,\n",
       "       1, 1, 0, 0, 1, 0, 0, 0, 1, 1, 0, 1, 1, 1, 1, 1, 0, 0, 1, 1, 0, 1,\n",
       "       1, 0, 0, 0, 0, 1, 0, 1, 0, 0, 1, 0, 1, 0, 1, 0, 0, 1, 0, 0, 1, 1,\n",
       "       1, 1, 1, 0, 0, 0, 1, 1, 0, 0, 1, 0, 0, 1, 1, 1, 1, 1, 0, 0, 0, 0,\n",
       "       1, 0, 1, 1])"
      ]
     },
     "execution_count": 69,
     "metadata": {},
     "output_type": "execute_result"
    }
   ],
   "source": [
    "import numpy as np\n",
    "y_pred = np.argmax(y_pred, axis=1)\n",
    "y_pred"
   ]
  },
  {
   "cell_type": "markdown",
   "id": "5fd15c7c",
   "metadata": {},
   "source": [
    "# Predict the class of a single image"
   ]
  },
  {
   "cell_type": "code",
   "execution_count": 162,
   "id": "02f9bbf4",
   "metadata": {},
   "outputs": [],
   "source": [
    "img=image.load_img('cell_images/test/Uninfected/C75P36_ThinF_IMG_20150815_163707_cell_33.png',target_size=(224,224))"
   ]
  },
  {
   "cell_type": "code",
   "execution_count": 163,
   "id": "c5281be8",
   "metadata": {},
   "outputs": [],
   "source": [
    "x=image.img_to_array(img)"
   ]
  },
  {
   "cell_type": "code",
   "execution_count": 164,
   "id": "5d81c964",
   "metadata": {},
   "outputs": [
    {
     "data": {
      "text/plain": [
       "(224, 224, 3)"
      ]
     },
     "execution_count": 164,
     "metadata": {},
     "output_type": "execute_result"
    }
   ],
   "source": [
    "x.shape"
   ]
  },
  {
   "cell_type": "code",
   "execution_count": 165,
   "id": "74b709b3",
   "metadata": {},
   "outputs": [],
   "source": [
    "x=x/255"
   ]
  },
  {
   "cell_type": "code",
   "execution_count": 166,
   "id": "6d8fc117",
   "metadata": {},
   "outputs": [],
   "source": [
    "x=np.expand_dims(x,axis=0)"
   ]
  },
  {
   "cell_type": "code",
   "execution_count": 179,
   "id": "4999368d",
   "metadata": {},
   "outputs": [
    {
     "data": {
      "text/plain": [
       "(2,)"
      ]
     },
     "execution_count": 179,
     "metadata": {},
     "output_type": "execute_result"
    }
   ],
   "source": [
    "N = model.predict(x)[0]\n",
    "N.shape"
   ]
  },
  {
   "cell_type": "code",
   "execution_count": 168,
   "id": "7d80db84",
   "metadata": {},
   "outputs": [],
   "source": [
    "a=np.argmax(model.predict(x), axis=1)\n",
    "a"
   ]
  },
  {
   "cell_type": "code",
   "execution_count": 170,
   "id": "1c0d2c34",
   "metadata": {},
   "outputs": [
    {
     "name": "stdout",
     "output_type": "stream",
     "text": [
      "Uninfected\n"
     ]
    }
   ],
   "source": [
    "if(a==1):\n",
    "    print(\"Uninfected\")\n",
    "else:\n",
    "    print(\"Infected\")"
   ]
  },
  {
   "cell_type": "code",
   "execution_count": null,
   "id": "5dd72407",
   "metadata": {},
   "outputs": [],
   "source": []
  }
 ],
 "metadata": {
  "kernelspec": {
   "display_name": "Python 3 (ipykernel)",
   "language": "python",
   "name": "python3"
  },
  "language_info": {
   "codemirror_mode": {
    "name": "ipython",
    "version": 3
   },
   "file_extension": ".py",
   "mimetype": "text/x-python",
   "name": "python",
   "nbconvert_exporter": "python",
   "pygments_lexer": "ipython3",
   "version": "3.9.7"
  }
 },
 "nbformat": 4,
 "nbformat_minor": 5
}
